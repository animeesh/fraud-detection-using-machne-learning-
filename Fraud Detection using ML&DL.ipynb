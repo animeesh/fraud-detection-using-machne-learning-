{
 "cells": [
  {
   "cell_type": "code",
   "execution_count": 1,
   "metadata": {},
   "outputs": [],
   "source": [
    "import pandas as pd \n",
    "import numpy as np\n",
    "import tensorflow as tf\n",
    "import keras\n",
    "from sklearn.preprocessing import StandardScaler\n",
    "from sklearn.model_selection import train_test_split\n",
    "from sklearn.metrics import classification_report"
   ]
  },
  {
   "cell_type": "code",
   "execution_count": 2,
   "metadata": {},
   "outputs": [
    {
     "name": "stdout",
     "output_type": "stream",
     "text": [
      "<class 'pandas.core.frame.DataFrame'>\n",
      "RangeIndex: 284806 entries, 0 to 284805\n",
      "Data columns (total 30 columns):\n",
      " #   Column       Non-Null Count   Dtype  \n",
      "---  ------       --------------   -----  \n",
      " 0   V1           284806 non-null  float64\n",
      " 1   V2           284806 non-null  float64\n",
      " 2   V3           284806 non-null  float64\n",
      " 3   V4           284806 non-null  float64\n",
      " 4   V5           284806 non-null  float64\n",
      " 5   V6           284806 non-null  float64\n",
      " 6   V7           284806 non-null  float64\n",
      " 7   V8           284806 non-null  float64\n",
      " 8   V9           284806 non-null  float64\n",
      " 9   V10          284806 non-null  float64\n",
      " 10  V11          284806 non-null  float64\n",
      " 11  V12          284806 non-null  float64\n",
      " 12  V13          284806 non-null  float64\n",
      " 13  V14          284806 non-null  float64\n",
      " 14  V15          284806 non-null  float64\n",
      " 15  V16          284806 non-null  float64\n",
      " 16  V17          284806 non-null  float64\n",
      " 17  V18          284806 non-null  float64\n",
      " 18  V19          284806 non-null  float64\n",
      " 19  V20          284806 non-null  float64\n",
      " 20  V21          284806 non-null  float64\n",
      " 21  V22          284806 non-null  float64\n",
      " 22  V23          284806 non-null  float64\n",
      " 23  V24          284806 non-null  float64\n",
      " 24  V25          284806 non-null  float64\n",
      " 25  V26          284806 non-null  float64\n",
      " 26  V27          284806 non-null  float64\n",
      " 27  V28          284806 non-null  float64\n",
      " 28  Class        284806 non-null  int64  \n",
      " 29  Amount_norm  284806 non-null  float64\n",
      "dtypes: float64(29), int64(1)\n",
      "memory usage: 65.2 MB\n"
     ]
    }
   ],
   "source": [
    "data= pd.read_csv('creditcard.csv')\n",
    "\n",
    "data['Amount_norm'] = StandardScaler().fit_transform(data['Amount'].values.reshape(-1,1))\n",
    "\n",
    "data= data.drop(['Amount'],axis=1)\n",
    "\n",
    "data= data.drop(['Time'],axis=1)\n",
    "\n",
    "data= data[:-1]\n",
    "\n",
    "data.info()"
   ]
  },
  {
   "cell_type": "code",
   "execution_count": 8,
   "metadata": {},
   "outputs": [],
   "source": [
    "x = data.iloc[:, data.columns != 'Class']\n",
    "\n",
    "y = data.iloc[:, data.columns == 'Class']\n",
    "\n",
    " \n",
    "\n",
    "x_train, x_test, y_train, y_test = train_test_split(X,y, test_size = 0.2, random_state=0)"
   ]
  },
  {
   "cell_type": "code",
   "execution_count": 9,
   "metadata": {},
   "outputs": [
    {
     "name": "stdout",
     "output_type": "stream",
     "text": [
      "               V1         V2        V3        V4        V5        V6  \\\n",
      "0       -1.359807  -0.072781  2.536347  1.378155 -0.338321  0.462388   \n",
      "1        1.191857   0.266151  0.166480  0.448154  0.060018 -0.082361   \n",
      "2       -1.358354  -1.340163  1.773209  0.379780 -0.503198  1.800499   \n",
      "3       -0.966272  -0.185226  1.792993 -0.863291 -0.010309  1.247203   \n",
      "4       -1.158233   0.877737  1.548718  0.403034 -0.407193  0.095921   \n",
      "...           ...        ...       ...       ...       ...       ...   \n",
      "284801   0.120316   0.931005 -0.546012 -0.745097  1.130314 -0.235973   \n",
      "284802 -11.881118  10.071785 -9.834783 -2.066656 -5.364473 -2.606837   \n",
      "284803  -0.732789  -0.055080  2.035030 -0.738589  0.868229  1.058415   \n",
      "284804   1.919565  -0.301254 -3.249640 -0.557828  2.630515  3.031260   \n",
      "284805  -0.240440   0.530483  0.702510  0.689799 -0.377961  0.623708   \n",
      "\n",
      "              V7        V8        V9       V10  ...       V20       V21  \\\n",
      "0       0.239599  0.098698  0.363787  0.090794  ...  0.251412 -0.018307   \n",
      "1      -0.078803  0.085102 -0.255425 -0.166974  ... -0.069083 -0.225775   \n",
      "2       0.791461  0.247676 -1.514654  0.207643  ...  0.524980  0.247998   \n",
      "3       0.237609  0.377436 -1.387024 -0.054952  ... -0.208038 -0.108300   \n",
      "4       0.592941 -0.270533  0.817739  0.753074  ...  0.408542 -0.009431   \n",
      "...          ...       ...       ...       ...  ...       ...       ...   \n",
      "284801  0.812722  0.115093 -0.204064 -0.657422  ...  0.000676 -0.314205   \n",
      "284802 -4.918215  7.305334  1.914428  4.356170  ...  1.475829  0.213454   \n",
      "284803  0.024330  0.294869  0.584800 -0.975926  ...  0.059616  0.214205   \n",
      "284804 -0.296827  0.708417  0.432454 -0.484782  ...  0.001396  0.232045   \n",
      "284805 -0.686180  0.679145  0.392087 -0.399126  ...  0.127434  0.265245   \n",
      "\n",
      "             V22       V23       V24       V25       V26       V27       V28  \\\n",
      "0       0.277838 -0.110474  0.066928  0.128539 -0.189115  0.133558 -0.021053   \n",
      "1      -0.638672  0.101288 -0.339846  0.167170  0.125895 -0.008983  0.014724   \n",
      "2       0.771679  0.909412 -0.689281 -0.327642 -0.139097 -0.055353 -0.059752   \n",
      "3       0.005274 -0.190321 -1.175575  0.647376 -0.221929  0.062723  0.061458   \n",
      "4       0.798278 -0.137458  0.141267 -0.206010  0.502292  0.219422  0.215153   \n",
      "...          ...       ...       ...       ...       ...       ...       ...   \n",
      "284801 -0.808520  0.050343  0.102800 -0.435870  0.124079  0.217940  0.068803   \n",
      "284802  0.111864  1.014480 -0.509348  1.436807  0.250034  0.943651  0.823731   \n",
      "284803  0.924384  0.012463 -1.016226 -0.606624 -0.395255  0.068472 -0.053527   \n",
      "284804  0.578229 -0.037501  0.640134  0.265745 -0.087371  0.004455 -0.026561   \n",
      "284805  0.800049 -0.163298  0.123205 -0.569159  0.546668  0.108821  0.104533   \n",
      "\n",
      "        Amount_norm  \n",
      "0          0.244964  \n",
      "1         -0.342475  \n",
      "2          1.160686  \n",
      "3          0.140534  \n",
      "4         -0.073403  \n",
      "...             ...  \n",
      "284801    -0.342475  \n",
      "284802    -0.350151  \n",
      "284803    -0.254117  \n",
      "284804    -0.081839  \n",
      "284805    -0.313249  \n",
      "\n",
      "[284806 rows x 29 columns]\n"
     ]
    }
   ],
   "source": [
    "print(x)"
   ]
  },
  {
   "cell_type": "code",
   "execution_count": 11,
   "metadata": {},
   "outputs": [
    {
     "name": "stdout",
     "output_type": "stream",
     "text": [
      "Epoch 1/15\n",
      "7121/7121 [==============================] - 37s 5ms/step - loss: 0.0117 - accuracy: 0.9976\n",
      "Epoch 2/15\n",
      "7121/7121 [==============================] - 35s 5ms/step - loss: 0.0033 - accuracy: 0.9994\n",
      "Epoch 3/15\n",
      "7121/7121 [==============================] - 37s 5ms/step - loss: 0.0030 - accuracy: 0.9994\n",
      "Epoch 4/15\n",
      "7121/7121 [==============================] - 34s 5ms/step - loss: 0.0028 - accuracy: 0.9994\n",
      "Epoch 5/15\n",
      "7121/7121 [==============================] - 34s 5ms/step - loss: 0.0027 - accuracy: 0.9994\n",
      "Epoch 6/15\n",
      "7121/7121 [==============================] - 38s 5ms/step - loss: 0.0025 - accuracy: 0.9994\n",
      "Epoch 7/15\n",
      "7121/7121 [==============================] - 39s 5ms/step - loss: 0.0024 - accuracy: 0.9995\n",
      "Epoch 8/15\n",
      "7121/7121 [==============================] - 36s 5ms/step - loss: 0.0023 - accuracy: 0.9995\n",
      "Epoch 9/15\n",
      "7121/7121 [==============================] - 36s 5ms/step - loss: 0.0022 - accuracy: 0.9995\n",
      "Epoch 10/15\n",
      "7121/7121 [==============================] - 38s 5ms/step - loss: 0.0022 - accuracy: 0.9995\n",
      "Epoch 11/15\n",
      "7121/7121 [==============================] - 36s 5ms/step - loss: 0.0021 - accuracy: 0.9996\n",
      "Epoch 12/15\n",
      "7121/7121 [==============================] - 36s 5ms/step - loss: 0.0021 - accuracy: 0.9995\n",
      "Epoch 13/15\n",
      "7121/7121 [==============================] - 35s 5ms/step - loss: 0.0020 - accuracy: 0.9996\n",
      "Epoch 14/15\n",
      "7121/7121 [==============================] - 35s 5ms/step - loss: 0.0020 - accuracy: 0.9996\n",
      "Epoch 15/15\n",
      "7121/7121 [==============================] - 36s 5ms/step - loss: 0.0019 - accuracy: 0.9996\n"
     ]
    },
    {
     "data": {
      "text/plain": [
       "<tensorflow.python.keras.callbacks.History at 0x1cf31832bb0>"
      ]
     },
     "execution_count": 11,
     "metadata": {},
     "output_type": "execute_result"
    }
   ],
   "source": [
    "from keras.models import Sequential\n",
    "from keras.layers import Dense\n",
    "model=Sequential()\n",
    "model.add(Dense(units=16,activation='relu',input_dim=29))\n",
    "model.add(Dense(units=16,activation='relu'))\n",
    "model.add(Dense(units=1,activation='sigmoid'))\n",
    "\n",
    "model.compile(optimizer='adam',loss='binary_crossentropy',metrics=['accuracy'])\n",
    "model.fit(x_train,y_train,batch_size=32,epochs=15)"
   ]
  },
  {
   "cell_type": "code",
   "execution_count": 13,
   "metadata": {},
   "outputs": [
    {
     "name": "stdout",
     "output_type": "stream",
     "text": [
      "              precision    recall  f1-score   support\n",
      "\n",
      "           0       1.00      1.00      1.00     56860\n",
      "           1       0.88      0.80      0.84       102\n",
      "\n",
      "    accuracy                           1.00     56962\n",
      "   macro avg       0.94      0.90      0.92     56962\n",
      "weighted avg       1.00      1.00      1.00     56962\n",
      "\n"
     ]
    }
   ],
   "source": [
    "y_predict=model.predict(x_test)\n",
    "y_predict=(y_predict>0.5)\n",
    "\n",
    "from sklearn.metrics import classification_report\n",
    "print(classification_report(y_test,y_predict))"
   ]
  }
 ],
 "metadata": {
  "kernelspec": {
   "display_name": "Python 3",
   "language": "python",
   "name": "python3"
  },
  "language_info": {
   "codemirror_mode": {
    "name": "ipython",
    "version": 3
   },
   "file_extension": ".py",
   "mimetype": "text/x-python",
   "name": "python",
   "nbconvert_exporter": "python",
   "pygments_lexer": "ipython3",
   "version": "3.8.3"
  }
 },
 "nbformat": 4,
 "nbformat_minor": 4
}
